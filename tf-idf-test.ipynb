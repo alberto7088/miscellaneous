{
 "cells": [
  {
   "cell_type": "code",
   "execution_count": 44,
   "metadata": {
    "collapsed": true
   },
   "outputs": [],
   "source": [
    "# -*- coding: utf-8 -*-\n",
    "from __future__ import division, unicode_literals\n",
    "import math\n",
    "from textblob import TextBlob as tb\n",
    "from nltk.corpus import stopwords\n",
    "import re\n",
    "import nltk"
   ]
  },
  {
   "cell_type": "code",
   "execution_count": 45,
   "metadata": {
    "collapsed": false
   },
   "outputs": [
    {
     "name": "stdout",
     "output_type": "stream",
     "text": [
      "[nltk_data] Downloading package stopwords to\n",
      "[nltk_data]     /Users/albertocitron/nltk_data...\n",
      "[nltk_data]   Unzipping corpora/stopwords.zip.\n"
     ]
    },
    {
     "data": {
      "text/plain": [
       "True"
      ]
     },
     "execution_count": 45,
     "metadata": {},
     "output_type": "execute_result"
    }
   ],
   "source": [
    "nltk.download(\"stopwords\")"
   ]
  },
  {
   "cell_type": "code",
   "execution_count": 46,
   "metadata": {
    "collapsed": false
   },
   "outputs": [],
   "source": [
    "def tf(word, blob):\n",
    "    return blob.words.count(word) / len(blob.words)\n",
    "\n",
    "def n_containing(word, bloblist):\n",
    "    return sum(1 for blob in bloblist if word in blob.words)\n",
    "\n",
    "def idf(word, bloblist):\n",
    "    return math.log(len(bloblist) / (1 + n_containing(word, bloblist)))\n",
    "\n",
    "def tfidf(word, blob, bloblist):\n",
    "    return tf(word, blob) * idf(word, bloblist)\n",
    "\n",
    "pattern = re.compile(r'\\b(' + r'|'.join(stopwords.words('english')) + r')\\b\\s*')"
   ]
  },
  {
   "cell_type": "code",
   "execution_count": 3,
   "metadata": {
    "collapsed": true
   },
   "outputs": [],
   "source": [
    "df = pd.read_csv('interview_test.csv', header=None, names=['text'])"
   ]
  },
  {
   "cell_type": "code",
   "execution_count": 51,
   "metadata": {
    "collapsed": false
   },
   "outputs": [],
   "source": [
    "bloblist = [tb(pattern.sub('', text).lower()) for text in df.text[10:30]]"
   ]
  },
  {
   "cell_type": "code",
   "execution_count": 48,
   "metadata": {
    "collapsed": false
   },
   "outputs": [
    {
     "data": {
      "text/plain": [
       "TextBlob(\"Best Black Friday Nutribullet deals Saturday evening - 34 600 Series Extractor Blender Black Friday 2016 Cyber Mondayhas begun! The huge spending frenzy big-name retailers slash prices one day officially open business, year 'expected rake money ever. The Nutribullet continues one nation'favourite kitchen devices This 15-piece multi-attachment hand blender set blends, chops, juices, whips, purees grinds, matter seconds. With choice several cup/jug sizes 2 different blades, select combination best suit task. Takes little space worktops, .\")"
      ]
     },
     "execution_count": 48,
     "metadata": {},
     "output_type": "execute_result"
    }
   ],
   "source": [
    "bloblist[1]"
   ]
  },
  {
   "cell_type": "code",
   "execution_count": 52,
   "metadata": {
    "collapsed": false
   },
   "outputs": [
    {
     "name": "stdout",
     "output_type": "stream",
     "text": [
      "Top words in document 1\n",
      "\tWord: delivery, TF-IDF: 0.03341, max:5.0, min:0.0\n",
      "\tWord: magic, TF-IDF: 0.02298, max:5.0, min:0.0\n",
      "\tWord: order, TF-IDF: 0.02291, max:5.0, min:0.0\n",
      "\tWord: team, TF-IDF: 0.01992, max:5.0, min:0.0\n",
      "\tWord: deluxe, TF-IDF: 0.01992, max:5.0, min:0.0\n",
      "\tWord: bullet, TF-IDF: 0.01671, max:5.0, min:0.0\n",
      "\tWord: next, TF-IDF: 0.01666, max:5.0, min:0.0\n",
      "\tWord: 4pm, TF-IDF: 0.01593, max:5.0, min:0.0\n",
      "\tWord: 7.30pm, TF-IDF: 0.01593, max:5.0, min:0.0\n",
      "\tWord: food, TF-IDF: 0.01427, max:5.0, min:0.0\n",
      "Top words in document 2\n",
      "\tWord: friday, TF-IDF: 0.05127, max:5.0, min:0.0\n",
      "\tWord: black, TF-IDF: 0.03747, max:5.0, min:0.0\n",
      "\tWord: series, TF-IDF: 0.03112, max:5.0, min:0.0\n",
      "\tWord: cyber, TF-IDF: 0.03112, max:5.0, min:0.0\n",
      "\tWord: continues, TF-IDF: 0.03112, max:5.0, min:0.0\n",
      "\tWord: begun, TF-IDF: 0.03112, max:5.0, min:0.0\n",
      "\tWord: 600, TF-IDF: 0.03112, max:5.0, min:0.0\n",
      "\tWord: rake, TF-IDF: 0.03112, max:5.0, min:0.0\n",
      "\tWord: combination, TF-IDF: 0.03112, max:5.0, min:0.0\n",
      "\tWord: worktops, TF-IDF: 0.03112, max:5.0, min:0.0\n",
      "Top words in document 3\n",
      "\tWord: nutri, TF-IDF: 0.08772, max:5.0, min:0.0\n",
      "\tWord: blitzer, TF-IDF: 0.06579, max:5.0, min:0.0\n",
      "\tWord: offer, TF-IDF: 0.04386, max:5.0, min:0.0\n",
      "\tWord: nutrients, TF-IDF: 0.03614, max:5.0, min:0.0\n",
      "\tWord: essential, TF-IDF: 0.03614, max:5.0, min:0.0\n",
      "\tWord: nutrition, TF-IDF: 0.03066, max:5.0, min:0.0\n",
      "\tWord: incredible, TF-IDF: 0.03066, max:5.0, min:0.0\n",
      "\tWord: original, TF-IDF: 0.03066, max:5.0, min:0.0\n",
      "\tWord: body, TF-IDF: 0.02641, max:5.0, min:0.0\n",
      "\tWord: needs, TF-IDF: 0.02641, max:5.0, min:0.0\n",
      "Top words in document 4\n",
      "\tWord: deals, TF-IDF: 0.02304, max:5.0, min:0.0\n",
      "\tWord: prices, TF-IDF: 0.02304, max:5.0, min:0.0\n",
      "\tWord: reduced, TF-IDF: 0.01864, max:5.0, min:0.0\n",
      "\tWord: accounts, TF-IDF: 0.01864, max:5.0, min:0.0\n",
      "\tWord: cent, TF-IDF: 0.01864, max:5.0, min:0.0\n",
      "\tWord: online, TF-IDF: 0.01864, max:5.0, min:0.0\n",
      "\tWord: retailers, TF-IDF: 0.01536, max:5.0, min:0.0\n",
      "\tWord: sign, TF-IDF: 0.01536, max:5.0, min:0.0\n",
      "\tWord: christmas, TF-IDF: 0.01536, max:5.0, min:0.0\n",
      "\tWord: friday, TF-IDF: 0.01536, max:5.0, min:0.0\n",
      "Top words in document 5\n",
      "\tWord: girls, TF-IDF: 0.10011, max:5.0, min:0.0\n",
      "\tWord: 'beauty, TF-IDF: 0.10011, max:5.0, min:0.0\n",
      "\tWord: egg, TF-IDF: 0.06027, max:5.0, min:0.0\n",
      "\tWord: own, TF-IDF: 0.05006, max:5.0, min:0.0\n",
      "\tWord: kim, TF-IDF: 0.05006, max:5.0, min:0.0\n",
      "\tWord: fair, TF-IDF: 0.05006, max:5.0, min:0.0\n",
      "\tWord: fellas, TF-IDF: 0.05006, max:5.0, min:0.0\n",
      "\tWord: 'aware, TF-IDF: 0.05006, max:5.0, min:0.0\n",
      "\tWord: contouring, TF-IDF: 0.05006, max:5.0, min:0.0\n",
      "\tWord: his, TF-IDF: 0.05006, max:5.0, min:0.0\n",
      "Top words in document 6\n",
      "\tWord: bread, TF-IDF: 0.033, max:5.0, min:0.0\n",
      "\tWord: flour, TF-IDF: 0.03042, max:5.0, min:0.0\n",
      "\tWord: im, TF-IDF: 0.0176, max:5.0, min:0.0\n",
      "\tWord: i, TF-IDF: 0.01755, max:5.0, min:0.0\n",
      "\tWord: batter, TF-IDF: 0.01469, max:5.0, min:0.0\n",
      "\tWord: vinegar, TF-IDF: 0.01259, max:5.0, min:0.0\n",
      "\tWord: loaf, TF-IDF: 0.01154, max:5.0, min:0.0\n",
      "\tWord: eggs, TF-IDF: 0.01124, max:5.0, min:0.0\n",
      "\tWord: almond, TF-IDF: 0.01027, max:5.0, min:0.0\n",
      "\tWord: recipe, TF-IDF: 0.01002, max:5.0, min:0.0\n",
      "Top words in document 7\n",
      "\tWord: milk, TF-IDF: 0.02314, max:5.0, min:0.0\n",
      "\tWord: winner, TF-IDF: 0.02106, max:5.0, min:0.0\n",
      "\tWord: smoothie, TF-IDF: 0.01826, max:5.0, min:0.0\n",
      "\tWord: banana, TF-IDF: 0.01755, max:5.0, min:0.0\n",
      "\tWord: pm, TF-IDF: 0.01404, max:5.0, min:0.0\n",
      "\tWord: smart, TF-IDF: 0.01404, max:5.0, min:0.0\n",
      "\tWord: i, TF-IDF: 0.01359, max:5.0, min:0.0\n",
      "\tWord: drink, TF-IDF: 0.01268, max:5.0, min:0.0\n",
      "\tWord: chocolate, TF-IDF: 0.01157, max:5.0, min:0.0\n",
      "\tWord: green, TF-IDF: 0.01157, max:5.0, min:0.0\n",
      "Top words in document 8\n",
      "\tWord: replacement, TF-IDF: 0.07124, max:5.0, min:0.0\n",
      "\tWord: active, TF-IDF: 0.06374, max:5.0, min:0.0\n",
      "\tWord: breville, TF-IDF: 0.04124, max:5.0, min:0.0\n",
      "\tWord: rated, TF-IDF: 0.02863, max:5.0, min:0.0\n",
      "\tWord: 5, TF-IDF: 0.02354, max:5.0, min:0.0\n",
      "\tWord: published, TF-IDF: 0.02226, max:5.0, min:0.0\n",
      "\tWord: date, TF-IDF: 0.01918, max:5.0, min:0.0\n",
      "\tWord: blade, TF-IDF: 0.0189, max:5.0, min:0.0\n",
      "\tWord: blend, TF-IDF: 0.01362, max:5.0, min:0.0\n",
      "\tWord: appliance, TF-IDF: 0.01272, max:5.0, min:0.0\n",
      "Top words in document 9\n",
      "\tWord: avocado, TF-IDF: 0.03255, max:5.0, min:0.0\n",
      "\tWord: stew, TF-IDF: 0.03255, max:5.0, min:0.0\n",
      "\tWord: tomatoes, TF-IDF: 0.03255, max:5.0, min:0.0\n",
      "\tWord: cilantro, TF-IDF: 0.02441, max:5.0, min:0.0\n",
      "\tWord: masters, TF-IDF: 0.02441, max:5.0, min:0.0\n",
      "\tWord: cook, TF-IDF: 0.02127, max:5.0, min:0.0\n",
      "\tWord: potatoes, TF-IDF: 0.02011, max:5.0, min:0.0\n",
      "\tWord: chard, TF-IDF: 0.02011, max:5.0, min:0.0\n",
      "\tWord: stir, TF-IDF: 0.02011, max:5.0, min:0.0\n",
      "\tWord: almonds, TF-IDF: 0.01706, max:5.0, min:0.0\n",
      "Top words in document 10\n",
      "\tWord: selena, TF-IDF: 0.07196, max:5.0, min:0.0\n",
      "\tWord: beauty, TF-IDF: 0.04446, max:5.0, min:0.0\n",
      "\tWord: birmingham, TF-IDF: 0.03598, max:5.0, min:0.0\n",
      "\tWord: faye, TF-IDF: 0.03598, max:5.0, min:0.0\n",
      "\tWord: men, TF-IDF: 0.03598, max:5.0, min:0.0\n",
      "\tWord: quiz, TF-IDF: 0.03598, max:5.0, min:0.0\n",
      "\tWord: friend, TF-IDF: 0.03598, max:5.0, min:0.0\n",
      "\tWord: pic, TF-IDF: 0.03598, max:5.0, min:0.0\n",
      "\tWord: followers, TF-IDF: 0.03598, max:5.0, min:0.0\n",
      "\tWord: attention, TF-IDF: 0.02964, max:5.0, min:0.0\n",
      "Top words in document 11\n",
      "\tWord: unit, TF-IDF: 0.01481, max:5.0, min:0.0\n",
      "\tWord: smeg, TF-IDF: 0.01413, max:5.0, min:0.0\n",
      "\tWord: colors, TF-IDF: 0.01413, max:5.0, min:0.0\n",
      "\tWord: margaritaville, TF-IDF: 0.01413, max:5.0, min:0.0\n",
      "\tWord: high-quality, TF-IDF: 0.01413, max:5.0, min:0.0\n",
      "\tWord: comes, TF-IDF: 0.01288, max:5.0, min:0.0\n",
      "\tWord: spend, TF-IDF: 0.01164, max:5.0, min:0.0\n",
      "\tWord: cups, TF-IDF: 0.01108, max:5.0, min:0.0\n",
      "\tWord: 10, TF-IDF: 0.01108, max:5.0, min:0.0\n",
      "\tWord: frozen, TF-IDF: 0.01108, max:5.0, min:0.0\n",
      "Top words in document 12\n",
      "\tWord: beauty, TF-IDF: 0.06071, max:5.0, min:0.0\n",
      "\tWord: hack, TF-IDF: 0.05526, max:5.0, min:0.0\n",
      "\tWord: makeup, TF-IDF: 0.05526, max:5.0, min:0.0\n",
      "\tWord: silisponge, TF-IDF: 0.03684, max:5.0, min:0.0\n",
      "\tWord: condoms, TF-IDF: 0.03684, max:5.0, min:0.0\n",
      "\tWord: itzayana, TF-IDF: 0.03684, max:5.0, min:0.0\n",
      "\tWord: sponge, TF-IDF: 0.0289, max:5.0, min:0.0\n",
      "\tWord: rounded, TF-IDF: 0.01842, max:5.0, min:0.0\n",
      "\tWord: wasteful, TF-IDF: 0.01842, max:5.0, min:0.0\n",
      "\tWord: dreamed, TF-IDF: 0.01842, max:5.0, min:0.0\n",
      "Top words in document 13\n",
      "\tWord: cheesecake, TF-IDF: 0.0294, max:5.0, min:0.0\n",
      "\tWord: i, TF-IDF: 0.02207, max:5.0, min:0.0\n",
      "\tWord: eggs, TF-IDF: 0.01491, max:5.0, min:0.0\n",
      "\tWord: sweetener, TF-IDF: 0.01244, max:5.0, min:0.0\n",
      "\tWord: sweet, TF-IDF: 0.01186, max:5.0, min:0.0\n",
      "\tWord: berries, TF-IDF: 0.01131, max:5.0, min:0.0\n",
      "\tWord: recipe, TF-IDF: 0.01125, max:5.0, min:0.0\n",
      "\tWord: cheese, TF-IDF: 0.01124, max:5.0, min:0.0\n",
      "\tWord: keto, TF-IDF: 0.01118, max:5.0, min:0.0\n",
      "\tWord: cream, TF-IDF: 0.01064, max:5.0, min:0.0\n",
      "Top words in document 14\n",
      "\tWord: nutribullet, TF-IDF: 0.02253, max:5.0, min:0.0\n",
      "\tWord: hot, TF-IDF: 0.01809, max:5.0, min:0.0\n",
      "\tWord: vessel, TF-IDF: 0.01628, max:5.0, min:0.0\n",
      "\tWord: pete, TF-IDF: 0.01628, max:5.0, min:0.0\n",
      "\tWord: damiano, TF-IDF: 0.01628, max:5.0, min:0.0\n",
      "\tWord: burns, TF-IDF: 0.01381, max:5.0, min:0.0\n",
      "\tWord: tonight, TF-IDF: 0.01381, max:5.0, min:0.0\n",
      "\tWord: makers, TF-IDF: 0.01221, max:5.0, min:0.0\n",
      "\tWord: pressure, TF-IDF: 0.01221, max:5.0, min:0.0\n",
      "\tWord: sealed, TF-IDF: 0.01221, max:5.0, min:0.0\n",
      "Top words in document 15\n",
      "\tWord: 5, TF-IDF: 0.02399, max:5.0, min:0.0\n",
      "\tWord: breville, TF-IDF: 0.02173, max:5.0, min:0.0\n",
      "\tWord: rated, TF-IDF: 0.02107, max:5.0, min:0.0\n",
      "\tWord: anonymous, TF-IDF: 0.01884, max:5.0, min:0.0\n",
      "\tWord: bottle, TF-IDF: 0.01884, max:5.0, min:0.0\n",
      "\tWord: active, TF-IDF: 0.01863, max:5.0, min:0.0\n",
      "\tWord: pro, TF-IDF: 0.01863, max:5.0, min:0.0\n",
      "\tWord: published, TF-IDF: 0.01844, max:5.0, min:0.0\n",
      "\tWord: date, TF-IDF: 0.01588, max:5.0, min:0.0\n",
      "\tWord: i, TF-IDF: 0.01168, max:5.0, min:0.0\n",
      "Top words in document 16\n",
      "\tWord: express, TF-IDF: 0.02104, max:5.0, min:0.0\n",
      "\tWord: beakers, TF-IDF: 0.01981, max:5.0, min:0.0\n",
      "\tWord: 5, TF-IDF: 0.01794, max:5.0, min:0.0\n",
      "\tWord: rated, TF-IDF: 0.01681, max:5.0, min:0.0\n",
      "\tWord: variety, TF-IDF: 0.01503, max:5.0, min:0.0\n",
      "\tWord: i, TF-IDF: 0.01443, max:5.0, min:0.0\n",
      "\tWord: filter, TF-IDF: 0.01202, max:5.0, min:0.0\n",
      "\tWord: richards, TF-IDF: 0.01202, max:5.0, min:0.0\n",
      "\tWord: morphy, TF-IDF: 0.01202, max:5.0, min:0.0\n",
      "\tWord: go, TF-IDF: 0.01096, max:5.0, min:0.0\n",
      "Top words in document 17\n",
      "\tWord: processor, TF-IDF: 0.04609, max:5.0, min:0.0\n",
      "\tWord: herbs, TF-IDF: 0.01472, max:5.0, min:0.0\n",
      "\tWord: breadcrumbs, TF-IDF: 0.01213, max:5.0, min:0.0\n",
      "\tWord: processors, TF-IDF: 0.01178, max:5.0, min:0.0\n",
      "\tWord: hand-held, TF-IDF: 0.01178, max:5.0, min:0.0\n",
      "\tWord: grating, TF-IDF: 0.01178, max:5.0, min:0.0\n",
      "\tWord: what, TF-IDF: 0.01078, max:5.0, min:0.0\n",
      "\tWord: chop, TF-IDF: 0.01064, max:5.0, min:0.0\n",
      "\tWord: version, TF-IDF: 0.01029, max:5.0, min:0.0\n",
      "\tWord: quantities, TF-IDF: 0.0097, max:5.0, min:0.0\n",
      "Top words in document 18\n",
      "\tWord: natalie, TF-IDF: 0.04735, max:5.0, min:0.0\n",
      "\tWord: jack, TF-IDF: 0.03552, max:5.0, min:0.0\n",
      "\tWord: tommee, TF-IDF: 0.0296, max:5.0, min:0.0\n",
      "\tWord: tippee, TF-IDF: 0.0296, max:5.0, min:0.0\n",
      "\tWord: choking, TF-IDF: 0.02368, max:5.0, min:0.0\n",
      "\tWord: plastic, TF-IDF: 0.01857, max:5.0, min:0.0\n",
      "\tWord: discovered, TF-IDF: 0.01776, max:5.0, min:0.0\n",
      "\tWord: mums, TF-IDF: 0.01776, max:5.0, min:0.0\n",
      "\tWord: shard, TF-IDF: 0.01776, max:5.0, min:0.0\n",
      "\tWord: cleaning, TF-IDF: 0.01463, max:5.0, min:0.0\n",
      "Top words in document 19\n",
      "\tWord: nutribullet, TF-IDF: 0.01973, max:5.0, min:0.0\n",
      "\tWord: branded, TF-IDF: 0.01442, max:5.0, min:0.0\n",
      "\tWord: aldi, TF-IDF: 0.01442, max:5.0, min:0.0\n",
      "\tWord: lose, TF-IDF: 0.01442, max:5.0, min:0.0\n",
      "\tWord: test, TF-IDF: 0.01442, max:5.0, min:0.0\n",
      "\tWord: 39.99, TF-IDF: 0.01442, max:5.0, min:0.0\n",
      "\tWord: bits, TF-IDF: 0.01188, max:5.0, min:0.0\n",
      "\tWord: powder, TF-IDF: 0.01158, max:5.0, min:0.0\n",
      "\tWord: so, TF-IDF: 0.01148, max:5.0, min:0.0\n",
      "\tWord: yokes, TF-IDF: 0.00961, max:5.0, min:0.0\n",
      "Top words in document 20\n",
      "\tWord: burns, TF-IDF: 0.02824, max:5.0, min:0.0\n",
      "\tWord: tonight, TF-IDF: 0.02353, max:5.0, min:0.0\n",
      "\tWord: pressure, TF-IDF: 0.02219, max:5.0, min:0.0\n",
      "\tWord: adelaide, TF-IDF: 0.02219, max:5.0, min:0.0\n",
      "\tWord: vessel, TF-IDF: 0.02219, max:5.0, min:0.0\n",
      "\tWord: moore, TF-IDF: 0.02219, max:5.0, min:0.0\n",
      "\tWord: today, TF-IDF: 0.02027, max:5.0, min:0.0\n",
      "\tWord: nutribullet, TF-IDF: 0.01842, max:5.0, min:0.0\n",
      "\tWord: internal, TF-IDF: 0.01664, max:5.0, min:0.0\n",
      "\tWord: cause, TF-IDF: 0.01664, max:5.0, min:0.0\n"
     ]
    }
   ],
   "source": [
    "for i, blob in enumerate(bloblist):\n",
    "    print(\"Top words in document {}\".format(i + 1))\n",
    "    scores = {word: tfidf(word, blob, bloblist) for word in blob.words}\n",
    "    sorted_words = sorted(scores.items(), key=lambda x: x[1], reverse=True)\n",
    "    for word, score in sorted_words[:10]:\n",
    "        print(\"\\tWord: {}, TF-IDF: {}, max:{}, min:{}\".format(word, round(score, 5), round(max(score, 5)), round(min(score, 5))))"
   ]
  },
  {
   "cell_type": "code",
   "execution_count": null,
   "metadata": {
    "collapsed": true
   },
   "outputs": [],
   "source": []
  }
 ],
 "metadata": {
  "kernelspec": {
   "display_name": "Python [Root]",
   "language": "python",
   "name": "Python [Root]"
  },
  "language_info": {
   "codemirror_mode": {
    "name": "ipython",
    "version": 2
   },
   "file_extension": ".py",
   "mimetype": "text/x-python",
   "name": "python",
   "nbconvert_exporter": "python",
   "pygments_lexer": "ipython2",
   "version": "2.7.12"
  }
 },
 "nbformat": 4,
 "nbformat_minor": 2
}
