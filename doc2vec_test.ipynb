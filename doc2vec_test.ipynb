{
 "cells": [
  {
   "cell_type": "code",
   "execution_count": 6,
   "metadata": {},
   "outputs": [
    {
     "data": {
      "text/html": [
       "<script>requirejs.config({paths: { 'plotly': ['https://cdn.plot.ly/plotly-latest.min']},});if(!window.Plotly) {{require(['plotly'],function(plotly) {window.Plotly=plotly;});}}</script>"
      ],
      "text/vnd.plotly.v1+html": [
       "<script>requirejs.config({paths: { 'plotly': ['https://cdn.plot.ly/plotly-latest.min']},});if(!window.Plotly) {{require(['plotly'],function(plotly) {window.Plotly=plotly;});}}</script>"
      ]
     },
     "metadata": {},
     "output_type": "display_data"
    }
   ],
   "source": [
    "import pandas as pd\n",
    "import numpy as np\n",
    "\n",
    "import logging\n",
    "\n",
    "import dash\n",
    "from dash.dependencies import Input, Output\n",
    "import dash_html_components as html\n",
    "import dash_core_components as dcc\n",
    "# import modules & set up logging\n",
    "import gensim\n",
    "from gensim.models.doc2vec import TaggedDocument\n",
    "import logging\n",
    "#from pathlib import Path\n",
    "import re\n",
    "import string \n",
    "from itertools import islice\n",
    "import multiprocessing\n",
    "from gensim.models import Doc2Vec\n",
    "import matplotlib.pylab as plt\n",
    "\n",
    "logging.basicConfig(format='%(asctime)s : %(levelname)s : %(message)s', level=logging.INFO)\n",
    "\n",
    "\n",
    "# import modules & set up logging\n",
    "from pathlib import Path\n",
    "import string \n",
    "\n",
    "from sklearn.manifold import TSNE\n",
    "from plotly.offline import init_notebook_mode, plot, iplot\n",
    "import plotly.graph_objs as go\n",
    "import plotly.plotly as py\n",
    "\n",
    "import nltk\n",
    "from nltk.stem.snowball import SnowballStemmer\n",
    "stemmer = SnowballStemmer(\"english\")\n",
    "import re\n",
    "\n",
    "import collections\n",
    "import plotly\n",
    "plotly.tools.set_credentials_file(username='albe88', api_key='FuLM7dUFVugZfDaWxk6O')\n",
    "\n",
    "from sklearn.feature_extraction.text import CountVectorizer\n",
    "from sklearn.feature_extraction.text import TfidfTransformer\n",
    "from sklearn.feature_extraction.text import TfidfVectorizer\n",
    "from sklearn.metrics.pairwise import cosine_similarity\n",
    "\n",
    "\n",
    "\n",
    "init_notebook_mode(connected=True)\n",
    "% matplotlib inline"
   ]
  },
  {
   "cell_type": "code",
   "execution_count": 30,
   "metadata": {},
   "outputs": [],
   "source": [
    "class Corpus2TaggedDocument(object):\n",
    "    \n",
    "    def __init__(self, dataframe):\n",
    "        self.dataframe = dataframe\n",
    "        \n",
    "    def __iter__(self):\n",
    "        ''' yield list of tokens for a single sentence in corpus '''\n",
    "        for idx , line in enumerate(self.dataframe.text):\n",
    "            document = line.lower()\n",
    "            for sentence in self.sentencize(document):\n",
    "                yield TaggedDocument(words=self.tokenize(sentence), tags=[str(idx)])\n",
    "       \n",
    "    def sentencize(self, text):\n",
    "        return text.split('. ')\n",
    "    \n",
    "    def tokenize(self, text):\n",
    "        return re.sub('([{}])'.format(string.punctuation), r' \\1 ', text).split()\n",
    "    \n",
    "    def tokenize_only(self, text):\n",
    "        # first tokenize by sentence, then by word to ensure that punctuation is caught as it's own token\n",
    "        tokens = [word.lower() for sent in nltk.sent_tokenize(text) for word in nltk.word_tokenize(sent)]\n",
    "        filtered_tokens = []\n",
    "        # filter out any tokens not containing letters (e.g., numeric tokens, raw punctuation)\n",
    "        for token in tokens:\n",
    "            if re.search('[a-zA-Z]', re.sub('<\\s*.*?>','',token)):\n",
    "                filtered_tokens.append(token)\n",
    "        return filtered_tokens\n",
    "    \n",
    "    def tokenize_and_stem(text):\n",
    "    # first tokenize by sentence, then by word to ensure that punctuation is caught as it's own token\n",
    "    tokens = [word for sent in nltk.sent_tokenize(text) for word in nltk.word_tokenize(sent)]\n",
    "    filtered_tokens = []\n",
    "    # filter out any tokens not containing letters (e.g., numeric tokens, raw punctuation)\n",
    "    for token in tokens:\n",
    "        if re.search('[a-zA-Z]', re.sub('<\\s*.*?>','',token)):\n",
    "            filtered_tokens.append(token)\n",
    "    stems = [stemmer.stem(t) for t in filtered_tokens]\n",
    "    return stems\n",
    "    \n",
    "    "
   ]
  },
  {
   "cell_type": "code",
   "execution_count": 5,
   "metadata": {},
   "outputs": [],
   "source": [
    "df = pd.read_csv('interview_test.csv', header=None, names=['text'])"
   ]
  },
  {
   "cell_type": "code",
   "execution_count": 56,
   "metadata": {
    "collapsed": true
   },
   "outputs": [],
   "source": [
    "def tokenize_and_stem(text):\n",
    "    # first tokenize by sentence, then by word to ensure that punctuation is caught as it's own token\n",
    "    tokens = [word for sent in nltk.sent_tokenize(text) for word in nltk.word_tokenize(sent)]\n",
    "    filtered_tokens = []\n",
    "    # filter out any tokens not containing letters (e.g., numeric tokens, raw punctuation)\n",
    "    for token in tokens:\n",
    "        if re.search('[a-zA-Z]', re.sub('<\\s*.*?>','',token)):\n",
    "            filtered_tokens.append(token)\n",
    "    stems = [stemmer.stem(t) for t in filtered_tokens]\n",
    "    return stems\n",
    "\n",
    "def tokenize_only(text):\n",
    "    # first tokenize by sentence, then by word to ensure that punctuation is caught as it's own token\n",
    "    tokens = [word.lower() for sent in nltk.sent_tokenize(text) for word in nltk.word_tokenize(sent)]\n",
    "    filtered_tokens = []\n",
    "    # filter out any tokens not containing letters (e.g., numeric tokens, raw punctuation)\n",
    "    for token in tokens:\n",
    "        if re.search('[a-zA-Z]', re.sub('<\\s*.*?>','',token)):\n",
    "            filtered_tokens.append(token)\n",
    "    return filtered_tokens"
   ]
  },
  {
   "cell_type": "code",
   "execution_count": 6,
   "metadata": {
    "collapsed": true
   },
   "outputs": [],
   "source": [
    "sentences = Corpus2TaggedDocument(df)"
   ]
  },
  {
   "cell_type": "code",
   "execution_count": 7,
   "metadata": {},
   "outputs": [
    {
     "name": "stdout",
     "output_type": "stream",
     "text": [
      "TaggedDocument(['stick', 'blender', '-', 'free', 'online', 'funny', 'games', 'if', 'you', 'want', 'to', 'blow', 'milk', 'out', 'your', 'nose', ',', 'you', 'are', 'at', 'the', 'right', 'place'], ['0'])\n",
      "TaggedDocument(['addictinggames', 'delivers', 'funny', 'games', 'in', 'massive', 'quantities'], ['0'])\n",
      "TaggedDocument(['play', 'your', 'way', 'from', 'fart', 'jokes', 'straight', 'to', 'nauseatingly', 'snarky', 'robots', ',', 'and', 'laugh', 'yourself', 'stupid'], ['0'])\n",
      "TaggedDocument(['feed', 'your', 'need', 'for', 'funny', 'games', '!', 'knock', 'a', 'loud', '-', 'mouth', 'jerk', 'as', 'far', 'as', 'you', 'can', 'in', 'homerun', 'in', 'berzerkland'], ['0'])\n",
      "TaggedDocument(['eat', 'scuba', 'divers', 'in', 'shark', 'bait'], ['0'])\n",
      "TaggedDocument(['see', 'if', 'you', 'can', 'think', 'your', 'way', 'through', 'i', 'dont', 'even', 'game'], ['0'])\n",
      "TaggedDocument(['test', 'your', 'quiz', 'abilities', 'with', 'the', 'stupid', 'tests', ',', 'the', 'worlds', 'easyest', 'game', 'and', 'the', 'impossible', 'quizes'], ['0'])\n",
      "TaggedDocument(['toast', 'little', 'beach', 'people', 'in', 'sunburn', ',', 'start', 'a', 'crap', 'storm', 'in', 'super', 'monkey', 'poop', 'fight', 'and', 'tear', 'yourself', 'apart', 'in', 'pursuit', 'of', 'hat', '!', 'spread', 'a', 'little', 'joy', 'in', 'monkey', 'go', 'happy'], ['0'])\n",
      "TaggedDocument(['unleash', 'awesome', 'damage', 'in', 'demolition', 'dude'], ['0'])\n",
      "TaggedDocument(['and', 'see', 'if', 'you', 'can', 'score', 'some', 'sweet', 'eats', 'in', 'meal', 'or', 'no', 'meal', '!', 'and', 'dont', 'forget', 'the', 'epic', 'playlists', '!', 'if', 'you', 'want', 'your', 'games', 'pre', '-', 'packaged', 'for', 'your', 'convenience', ',', 'we', 'have', 'just', 'the', 'thing'], ['0'])\n",
      "TaggedDocument(['playlists', '!', 'try', 'out', '12', 'unbeatable', 'ninja', 'games'], ['0'])\n",
      "TaggedDocument(['or', ',', 'if', 'you', 'feel', 'nasty', ',', 'take', 'a', 'swing', 'at', '12', 'stinky', 'poo', 'games'], ['0'])\n",
      "TaggedDocument(['still', 'not', 'convinced', '?', 'maybe', 'you', 'want', 'to', 'attempt', 'to', 'play', '15', 'dangerous', 'animal', 'games'], ['0'])\n",
      "TaggedDocument(['but', 'that', 'might', 'be', 'a', 'bit', 'bloody'], ['0'])\n",
      "TaggedDocument(['try', '12', 'explosive', 'games', 'and', 'see', 'if', 'destruction', 'clears', 'your', 'head'], ['0'])\n",
      "TaggedDocument(['whether', 'its', 'a', 'playlist', 'about', 'ninjas', ',', 'or', 'hand', '-', 'drawn', 'games', ',', 'youll', 'find', 'a', 'collection', 'of', 'super', 'awesomeness', 'that', 'will', 'keep', 'you', 'playing', 'for', 'days', '!', 'so', 'much', 'more', 'than', 'funny', 'flash', 'gameswhen', 'you', 'have', 'had', 'your', 'fill', 'of', 'funny', 'flash', 'games', ',', 'addicting', 'games', 'delivers', 'epic', 'servings', 'of', 'other', 'game', 'styles', 'to', 'keep', 'the', 'fun', 'dial', 'turned', 'to', 'eleven'], ['0'])\n",
      "TaggedDocument(['dig', 'stick', 'figure', 'games', 'and', 'notebook', 'games', 'you', 'could', 'have', 'drawn', 'yourself'], ['0'])\n",
      "TaggedDocument(['solve', 'amazing', 'puzzles', 'and', 'stack', 'gravity', 'blocks', 'for', 'epic', 'wins', '!', 'win', 'your', 'freedom', 'in', 'escape', 'games'], ['0'])\n",
      "TaggedDocument(['blast', 'everything', 'you', 'can', 'think', 'of', 'in', 'shooting', 'games', ',', 'and', 'much', ',', 'much', 'more', '!', 'stick', 'blender', 'game', 'information', 'stick', 'blender', 'effing', 'games', 'all', 'the', 'stick', 'creatures', 'hate', 'the', 'giant', 'blender'], ['0'])\n",
      "TaggedDocument(['and', 'blender', 'must', 'defend', 'self', '!', 'capture', 'your', 'tiny', 'enemies', 'and', 'toss', 'or', 'drop', 'them', 'into', 'the', 'blender'], ['0'])\n",
      "TaggedDocument(['fill', 'it', 'to', 'the', 'brim', 'with', 'stick', 'stuff', 'to', 'complete', 'the', 'level'], ['0'])\n",
      "TaggedDocument(['upgrade', 'your', 'blender', 'self', 'to', 'make', 'your', 'grinding', 'powers', 'unstoppable', '!'], ['0'])\n",
      "TaggedDocument(['blenders', 'review', 'why', 'use', 'a', 'blender', '?', 'the', 'top', 'performers', 'in', 'our', 'review', 'are', 'cuisinart', 'hurricane', ',', 'the', 'gold', 'award', 'winner', ';', 'nutri', 'ninja', 'blender', 'duo', ',', 'the', 'silver', 'award', 'winner', ';', 'and', 'dash', 'chef', ',', 'the', 'bronze', 'award', 'winner'], ['1'])\n",
      "TaggedDocument(['here', \"'\", 's', 'more', 'on', 'choosing', 'a', 'system', 'to', 'meet', 'your', 'needs', ',', 'along', 'with', 'detail', 'on', 'how', 'we', 'arrived', 'at', 'our', 'ranking', 'of', '10', 'blenders'], ['1'])\n",
      "TaggedDocument(['why', 'use', 'a', 'premium', 'blender', '?', 'the', 'blender', 'first', 'appeared', 'in', 'the', '1920s', 'and', 'has', 'been', 'making', 'its', 'way', 'to', 'more', 'and', 'more', 'kitchen', 'countertops', 'ever', 'since'], ['1'])\n",
      "TaggedDocument(['this', 'small', 'appliance', 'is', 'able', 'to', 'do', 'a', 'range', 'of', 'tasks', 'by', 'coaxing', 'solids', 'toward', 'a', 'set', 'of', 'spinning', 'blades', 'at', 'the', 'bottom', 'of', 'a', 'sturdy', 'container', ',', 'helping', 'home', 'cooks', 'and', 'the', 'pros', 'alike', 'make', 'blended', 'drinks', ',', 'soups', ',', 'smoothies', ',', 'salsa', 'and', 'many', 'other', 'dishes'], ['1'])\n",
      "TaggedDocument(['the', 'right', 'blender', 'can', 'help', 'you', 'bypass', 'a', 'lot', 'of', 'chopping', 'to', 'make', 'a', 'quick', 'salsa', 'or', 'skip', 'a', 'delicate', 'and', 'sometimes', 'long', 'stovetop', 'procedure', 'to', 'arrive', 'at', 'warm', 'homemade', 'soup'], ['1'])\n",
      "TaggedDocument(['you', 'could', 'carefully', 'try', 'to', 'soften', 'and', 'thicken', 'at', 'just', 'the', 'right', 'moments', 'to', 'make', 'the', 'creamy', 'soups', 'you', 'remember', 'grandma', 'making', ',', 'or', 'you', 'could', 'throw', 'cold', 'ingredients', 'into', 'a', 'good', 'blender', 'and', 'have', 'them', 'emulsified', 'and', 'heated', 'in', 'one', 'step'], ['1'])\n",
      "TaggedDocument(['quality', 'blenders', 'can', 'also', 'grind', 'wheat', 'and', 'flaxseed', ',', 'knead', 'dough', ',', 'and', 'make', 'ice', 'cream'], ['1'])\n",
      "TaggedDocument(['the', 'countertop', 'blenders', 'we', 'reviewed', 'can', 'make', 'a', 'decent', 'juice', ',', 'though', 'it', 'will', 'contain', 'a', 'lot', 'of', 'pulp'], ['1'])\n",
      "TaggedDocument(['if', 'you', 'want', 'to', 'blend', 'large', 'amounts', 'of', 'juices', ',', 'though', ',', 'a', 'traditional', 'juicer', 'may', 'be', 'more', 'what', 'you', 'are', 'looking', 'for'], ['1'])\n",
      "TaggedDocument(['frozen', 'drinks', 'are', 'another', 'common', 'use', 'of', 'high', '-', 'quality', 'blenders'], ['1'])\n",
      "TaggedDocument(['there', 'are', 'enough', 'smoothie', 'recipes', 'to', 'last', 'you', 'a', 'lifetime', 'by', 'now', 'on', 'the', 'internet'], ['1'])\n",
      "TaggedDocument(['the', 'count', 'goes', 'much', 'closer', 'to', 'two', 'lifetimes', 'when', 'you', 'factor', 'in', 'variations', 'on', 'recipes', 'for', 'margaritas', ',', 'pia', 'coladas', ',', 'daiquiris', 'and', 'any', 'number', 'of', 'blended', 'drinks'], ['1'])\n",
      "TaggedDocument(['if', 'you', \"'\", 've', 'ever', 'tried', 'to', 'make', 'any', 'of', 'them', 'with', 'a', 'cheap', 'blender', ',', 'you', 'know', 'how', 'irritating', 'it', 'can', 'be'], ['1'])\n",
      "TaggedDocument(['large', 'chunks', 'of', 'ice', 'get', 'mixed', 'in', 'with', 'the', 'portions', 'that', 'were', 'perfectly', 'shredded', ',', 'or', 'the', 'blender', 'gets', 'stuck', 'completely', 'and', 'you', 'never', 'get', 'past', 'the', 'initial', 'pulse'], ['1'])\n",
      "TaggedDocument(['the', 'best', 'blenders', 'on', 'the', 'market', 'do', 'not', 'even', 'hesitate', 'on', 'ice'], ['1'])\n",
      "TaggedDocument(['the', 'ninja', 'professional', 'is', 'one', 'excellent', 'example', 'of', 'a', 'champion', 'on', 'ice'], ['1'])\n",
      "TaggedDocument(['it', 'shredded', 'ice', 'perfectly', 'and', 'quickly', ',', 'doing', 'a', 'better', 'job', 'than', 'more', 'expensive', 'competitors'], ['1'])\n",
      "TaggedDocument(['blender', 'families', 'we', 'kept', 'our', 'focus', 'somewhat', 'narrow', 'for', 'our', 'blender', 'comparison', ',', 'looking', 'at', 'higher', '-', 'quality', 'countertop', 'units', 'from', 'a', 'range', 'of', 'manufacturers'], ['1'])\n",
      "TaggedDocument(['immersion', 'blenders', 'have', 'their', 'place', ',', 'though', ',', 'and', 'that', 'place', 'is', 'at', 'the', 'top', 'of', 'many', 'wish', 'lists'], ['1'])\n",
      "TaggedDocument(['one', 'reason', 'is', 'that', 'the', 'immersion', 'blender', 'erases', 'limits', 'on', 'quantity'], ['1'])\n",
      "TaggedDocument(['you', 'do', 'not', 'have', 'to', 'rotate', 'blender', 'pitchers', 'full', 'of', 'mashed', 'potatoes', 'or', 'soup', 'or', 'anything', 'else', 'to', 'arrive', 'at', 'a', 'large', 'final', 'bowl', 'for', 'a', 'family', 'dinner'], ['1'])\n",
      "TaggedDocument(['you', 'can', 'blend', 'it', 'all', 'at', 'the', 'same', 'time', 'in', 'the', 'blender', \"'\", 's', 'large', 'stovetop', 'pot', 'or', 'anywhere', 'else', 'that', 'is', 'convenient'], ['1'])\n",
      "TaggedDocument(['immersion', 'blenders', 'can', 'also', 'help', 'with', 'smoothies', ',', 'salad', 'dressings', ',', 'whipped', 'cream', 'and', 'pesto'], ['1'])\n",
      "TaggedDocument(['they', 'are', 'not', 'powerful', 'enough', 'to', 'really', 'compete', 'with', 'or', 'replace', 'a', 'countertop', 'blender', ',', 'though', ',', 'so', 'we', 'did', 'not', 'include', 'them', 'in', 'our', 'comparison'], ['1'])\n",
      "TaggedDocument(['our', 'reviews', 'and', 'articles', 'about', 'blending', 'discuss', 'the', 'strengths', 'and', 'weaknesses', 'of', 'the', 'best', 'blenders'], ['1'])\n",
      "TaggedDocument(['blenders', ':', 'how', 'we', 'tested', ',', 'what', 'we', 'found', 'first', 'and', 'foremost', ',', 'in', 'our', 'blender', 'reviews', 'we', 'focused', 'on', 'finding', 'an', 'appliance', 'that', 'is', 'powerful'], ['1'])\n",
      "TaggedDocument(['a', 'number', 'of', 'design', 'elements', 'go', 'into', 'making', 'a', 'blender', 'that', 'can', 'handle', 'hard', 'ingredients', ',', 'reducing', 'them', 'to', 'whatever', 'you', 'want', ',', 'whether', 'that', 'is', 'nut', 'butter', ',', 'oat', 'flour', 'or', 'baby', 'food'], ['1'])\n",
      "TaggedDocument(['we', 'prefer', 'the', 'units', 'that', 'can', 'multitask', 'and', 'perform', 'well', 'in', 'a', 'range', 'of', 'situations', ',', 'helping', 'you', 'puree', ',', 'blend', ',', 'whip', 'or', 'chop'], ['1'])\n",
      "TaggedDocument(['the', 'top', 'blenders', 'have', 'strong', 'enough', 'motors', 'to', 'make', 'a', 'hearty', 'soup', 'and', 'heat', 'it', 'up', ',', 'but', 'they', 'have', 'less', 'intense', 'settings', 'for', 'easier', 'tasks', 'like', 'salsa'], ['1'])\n",
      "TaggedDocument(['we', 'valued', 'the', 'blenders', 'that', 'are', 'easy', 'to', 'set', 'up', 'and', 'use'], ['1'])\n",
      "TaggedDocument(['things', 'like', 'flat', '-', 'panel', 'controls', 'impact', 'whether', 'it', 'takes', 'a', 'reasonable', 'amount', 'of', 'time', 'to', 'keep', 'things', 'clean', 'or', 'whether', 'you', 'have', 'to', 'get', 'out', 'a', 'toothpick', 'to', 'go', 'around', 'the', 'buttons', 'when', 'things', 'get', 'messy'], ['1'])\n",
      "TaggedDocument(['blenders', 'have', 'to', 'make', 'some', 'noise', 'as', 'they', 'crush', 'ingredients', ',', 'but', 'we', 'like', 'the', 'ones', 'that', 'are', 'designed', 'with', 'some', 'consideration', 'for', 'preservation', 'of', 'your', 'hearing'], ['1'])\n",
      "TaggedDocument(['we', 'measured', 'each', 'for', 'its', 'sound', 'levels', 'and', 'gave', 'credit', 'to', 'the', 'ones', 'that', 'produce', 'less', 'noise'], ['1'])\n",
      "TaggedDocument(['we', 'considered', 'design', 'factors', 'like', 'height', ',', 'too'], ['1'])\n",
      "TaggedDocument(['if', 'you', 'plan', 'to', 'keep', 'your', 'blender', 'in', 'easy', 'reach', ',', 'it', 'is', 'nice', 'if', 'it', 'can', 'fit', 'under', 'upper', 'cabinets', 'at', 'least'], ['1'])\n",
      "TaggedDocument(['the', 'taller', 'units', 'are', 'nice', 'in', 'terms', 'of', 'capacity', ',', 'but', 'they', 'can', 'be', 'awkward', 'for', 'storage'], ['1'])\n",
      "TaggedDocument(['blenders', ':', 'our', 'verdict', '&', 'recommendations', 'individual', 'needs', 'vary', 'slightly', ',', 'but', 'most', 'people', 'want', 'a', 'blender', 'that', 'is', 'strong', ',', 'versatile', 'and', 'easy', 'to', 'maintain'], ['1'])\n",
      "TaggedDocument(['with', 'those', 'qualities', 'in', 'mind', ',', 'we', 'were', 'impressed', 'with', 'several', 'models', ',', 'especially', 'the', 'nutri', 'ninja', 'blender', 'duo', ',', 'cuisinart', 'hurricane', 'and', 'dash', 'chef'], ['1'])\n",
      "TaggedDocument(['each', 'of', 'these', 'powerful', 'blenders', 'represents', 'a', 'good', 'value', 'for', 'their', 'respective', 'prices'], ['1'])\n",
      "TaggedDocument(['the', 'cuisinart', 'hurricane', 'was', 'victorious', 'once', 'we', 'had', 'put', 'these', 'machines', 'through', 'all', 'of', 'our', 'tests'], ['1'])\n",
      "TaggedDocument(['this', 'unit', 'was', 'perfection', 'at', 'making', 'soup', ';', 'it', 'heats', 'and', 'blends', 'ingredients', 'in', 'one', 'step', ',', 'getting', 'soup', 'hotter', 'than', 'any', 'product', 'in', 'our', 'blender', 'reviews'], ['1'])\n",
      "TaggedDocument(['it', 'also', 'quickly', 'reduced', 'frozen', 'fruit', 'to', 'a', 'very', 'smooth', 'smoothie'], ['1'])\n",
      "TaggedDocument(['the', 'nutri', 'ninja', 'blender', 'duo', 'is', 'another', 'great', 'option'], ['1'])\n",
      "TaggedDocument(['it', 'comes', 'with', 'one', 'powerful', 'base', 'that', 'you', 'can', 'use', 'to', 'blend', 'foods', 'in', 'a', 'pitcher', 'or', 'in', 'an', 'individual', 'cup', ',', 'both', 'of', 'which', 'are', 'included'], ['1'])\n",
      "TaggedDocument(['this', 'blender', 'quickly', 'made', 'great', 'smoothies', 'and', 'soup'], ['1'])\n",
      "TaggedDocument(['it', 'was', 'also', 'good', 'at', 'shredding', 'ice', 'into', 'equally', 'sized', 'pieces', 'that', 'are', 'perfect', 'for', 'a', 'daiquiri', 'or', 'margarita'], ['1'])\n",
      "TaggedDocument(['the', 'dash', 'chef', 'rounds', 'out', 'the', 'top', 'three', 'in', 'our', 'blenders', 'comparison', 'with', 'its', 'convenient', 'preset', 'buttons', ',', 'powerful', 'motor', 'and', 'impressive', 'lifetime', 'motor', 'warranty'], ['1'])\n",
      "TaggedDocument(['you', 'generally', 'do', 'get', 'what', 'you', 'pay', 'for', 'when', 'it', 'comes', 'to', 'blenders'], ['1'])\n",
      "TaggedDocument(['the', 'investment', 'goes', 'into', 'food', '-', 'crushing', 'motors', 'that', 'power', 'through', 'anything'], ['1'])\n",
      "TaggedDocument(['but', 'we', 'found', 'several', 'machines', 'in', 'the', 'middle', 'price', 'range', 'that', 'had', 'perfect', 'performances', 'on', 'our', 'tests'], ['1'])\n",
      "TaggedDocument(['they', 'are', 'well', 'worth', 'the', 'investment', 'if', 'you', 'are', 'in', 'the', 'market', 'for', 'a', 'new', 'blender'], ['1'])\n",
      "TaggedDocument(['even', 'if', 'a', 'blender', 'does', 'not', 'end', 'up', 'revolutionizing', 'your', 'life', 'the', 'way', 'most', 'manufacturers', 'claim', ',', 'it', 'will', 'definitely', 'make', 'your', 'life', 'easier', 'when', 'you', 'are', 'making', 'soup', ',', 'salsa', ',', 'mashed', 'potatoes', 'or', 'really', 'anything', 'else', '.'], ['1'])\n",
      "TaggedDocument(['battle', 'of', 'the', 'blenders', ':', 'are', 'the', 'nutribullet', \"'\", 's', 'cheap', 'rivals', 'any', 'good', '?', 'weve', 'gone', 'nuts', 'for', 'the', 'nutribullet'], ['2'])\n",
      "TaggedDocument(['this', 'american', 'blender', ',', 'sorry', ',', 'nutrition', 'extractor', 'first', 'appeared', 'in', 'the', 'uk', 'in', 'may', '2013', 'with', 'a', 'natty', 'line', 'in', 'tv', 'commercials'], ['2'])\n",
      "TaggedDocument(['but', 'unlike', 'other', 'as', 'seen', 'on', 'tv', 'gimmicks', ',', 'this', 'one', 'soon', 'picked', 'up', 'word', 'of', 'mouth', 'recommendations', 'too', ',', 'with', 'even', 'the', 'duchess', 'of', 'cambridge', 'said', 'to', 'be', 'a', 'fan'], ['2'])\n",
      "TaggedDocument(['over', 'the', 'next', 'eighteen', 'months', 'sales', 'boomed', ',', 'spurred', 'on', 'by', 'the', 'clean', 'eating', 'movement', 'and', 'our', 'new', 'appetite', 'for', 'drinking', 'green', 'smoothies', 'vegetables', ',', 'preferably', 'kale', ',', 'pulverized', 'with', 'water', 'and', 'fruit'], ['2'])\n",
      "TaggedDocument(['the', 'owners', 'capital', 'brands', 'llc', 'have', 'now', 'sold', 'over', 'a', 'million', 'nutribullets', 'in', 'the', 'uk', 'alone', '(', '40million', 'worldwide', ')', 'and', 'over', 'christmas', 'john', 'lewis', 'was', 'shifting', 'one', 'every', '90', 'seconds'], ['2'])\n",
      "TaggedDocument(['green', 'smooties', 'and', 'juices', 'are', 'all', 'the', 'rage', ',', 'mixing', 'vegetables', 'with', 'sweet', 'fruitcredit', ':', 'alamy', 'so', 'whats', 'the', 'fuss', 'about', '?', 'these', 'small', ',', 'or', 'smallish', ',', 'blenders', 'promise', 'to', 'go', 'further', 'than', 'regular', 'blenders', ',', 'pulverising', 'seeds', 'and', 'skins', 'that', 'lesser', 'machines', 'struggle', 'with'], ['2'])\n",
      "TaggedDocument(['this', 'means', ',', 'theoretically', ',', 'that', 'fruit', 'and', 'veg', 'pureed', 'with', 'water', '(', 'or', 'coconut', 'water', ',', 'rice', 'milk', 'or', 'whatever', 'liquid', 'you', 'fancy', ')', 'into', 'a', 'smoothie', 'packs', 'more', 'of', 'the', 'goodness', 'in', 'drinkable', 'form', 'than', 'a', 'juice', ',', 'say'], ['2'])\n",
      "TaggedDocument(['this', 'is', 'true', 'youll', 'be', 'getting', 'the', 'fibre', ',', 'to', 'start', 'with', 'but', 'its', 'worth', 'bearing', 'in', 'mind', 'that', 'liquefying', 'fruit', 'and', 'veg', 'raises', 'its', 'glycemic', 'index', ',', 'so', 'it', 'is', 'still', 'best', 'to', 'eat', 'the', 'whole', ',', 'unblended', 'versions'], ['2'])\n",
      "TaggedDocument(['that', 'said', ',', 'is', 'it', 'better', 'to', 'get', 'two', 'of', 'your', 'five', 'a', 'day', 'in', 'the', 'form', 'of', 'a', 'smoothie', 'than', 'not', 'at', 'all', '?', 'of', 'course', 'it', 'is'], ['2'])\n",
      "TaggedDocument(['the', 'best', 'part', 'is', 'that', 'bullet', 'blenders', 'in', 'general', 'are', 'also', 'great', 'at', 'making', 'smooth', 'pastes', 'in', 'relatively', 'small', 'quantities', 'that', 'food', 'processors', 'and', 'regular', 'liquidisers', 'cant', 'manage', ',', 'like', 'hummus', 'for', 'instance'], ['2'])\n",
      "TaggedDocument(['plus', ',', 'while', 'they', 'tend', 'to', 'puree', 'rather', 'than', 'chop', '(', 'dont', 'believe', 'claims', 'they', 'can', 'dice', 'an', 'onion', 'well', ')', ',', 'they', 'can', 'crush', 'ice', 'for', 'slush', 'puppy', 'type', 'drink', ',', 'and', 'grind', 'spices', 'too'], ['2'])\n",
      "TaggedDocument(['a', 'multitalented', 'bunch'], ['2'])\n",
      "TaggedDocument(['another', 'advantage', 'is', 'the', 'upside', 'down', 'goblet', 'or', 'beaker'], ['2'])\n",
      "TaggedDocument(['rather', 'than', 'a', 'jug', 'to', 'hold', 'the', 'ingredients', ',', 'with', 'the', 'blades', 'at', 'the', 'bottom', ',', 'with', 'the', 'bullet', 'blenders', 'you', 'fill', 'a', 'beaker', ',', 'screw', 'the', 'blade', 'section', 'on', 'top', ',', 'then', 'invert', 'the', 'whole', 'caboodle', 'on', 'to', 'the', 'motor', 'base'], ['2'])\n",
      "TaggedDocument(['this', 'makes', 'them', 'prone', 'to', 'leaking', ',', 'but', 'means', 'that', 'you', 'can', 'use', 'the', 'beaker', 'to', 'drink', 'out', 'of', ',', 'without', 'feeling', 'like', 'an', 'unhousetrained', 'teenager', '-', 'they', 'all', 'come', 'with', 'screw', 'on', 'rims', 'or', 'sports', 'lids', 'to', 'make', 'sipping', 'more', 'comfortable'], ['2'])\n",
      "TaggedDocument(['but', 'with', 'the', 'exception', 'of', 'the', 'machines', 'that', 'blend', 'straight', 'into', 'a', 'sports', 'bottle', 'like', 'the', 'davina', 'personal', 'blender', 'below', 'or', 'the', 'aeg', 'sport', 'mini', 'mixer', '(', '99', '.', '99', 'from', 'johnlewis', '.', 'com', ')', 'the', 'beakers', 'make', 'pretty', 'ungainly', 'drinking', 'receptacles'], ['2'])\n"
     ]
    }
   ],
   "source": [
    "for sentence in islice(sentences, 90): print sentence"
   ]
  },
  {
   "cell_type": "code",
   "execution_count": 8,
   "metadata": {
    "collapsed": true
   },
   "outputs": [],
   "source": [
    "cores = multiprocessing.cpu_count()"
   ]
  },
  {
   "cell_type": "code",
   "execution_count": 9,
   "metadata": {
    "collapsed": true
   },
   "outputs": [],
   "source": [
    "model = Doc2Vec(\n",
    "    sentences,\n",
    "    vector_size=100,\n",
    "    min_count=2, \n",
    "    window=5,\n",
    "    workers=cores\n",
    "    )"
   ]
  },
  {
   "cell_type": "code",
   "execution_count": 10,
   "metadata": {
    "collapsed": true
   },
   "outputs": [],
   "source": [
    "model.save('./doc2vec.model')"
   ]
  },
  {
   "cell_type": "markdown",
   "metadata": {},
   "source": [
    "## Model Evaluation"
   ]
  },
  {
   "cell_type": "code",
   "execution_count": 11,
   "metadata": {
    "collapsed": true
   },
   "outputs": [],
   "source": [
    "DATA_DIR = Path('./')\n",
    "MODEL_PATH = DATA_DIR / 'doc2vec.model'"
   ]
  },
  {
   "cell_type": "code",
   "execution_count": 12,
   "metadata": {},
   "outputs": [],
   "source": [
    "model = Doc2Vec.load('doc2vec.model')"
   ]
  },
  {
   "cell_type": "code",
   "execution_count": 79,
   "metadata": {},
   "outputs": [],
   "source": [
    "df['doc_vectors'] = list(model.docvecs.vectors_docs)"
   ]
  },
  {
   "cell_type": "code",
   "execution_count": 80,
   "metadata": {},
   "outputs": [
    {
     "data": {
      "text/html": [
       "<div>\n",
       "<table border=\"1\" class=\"dataframe\">\n",
       "  <thead>\n",
       "    <tr style=\"text-align: right;\">\n",
       "      <th></th>\n",
       "      <th>text</th>\n",
       "      <th>doc_vectors</th>\n",
       "    </tr>\n",
       "  </thead>\n",
       "  <tbody>\n",
       "    <tr>\n",
       "      <th>0</th>\n",
       "      <td>Stick Blender - Free Online Funny Games If you...</td>\n",
       "      <td>[0.3313374, -0.20437007, -0.499616, 0.21268374...</td>\n",
       "    </tr>\n",
       "    <tr>\n",
       "      <th>1</th>\n",
       "      <td>Blenders Review Why Use a Blender? The top per...</td>\n",
       "      <td>[0.200803, 0.27143788, -0.5644821, 0.07569534,...</td>\n",
       "    </tr>\n",
       "    <tr>\n",
       "      <th>2</th>\n",
       "      <td>Battle of the blenders: are the Nutribullet's ...</td>\n",
       "      <td>[0.26537505, 0.30610573, -0.28650934, 0.370924...</td>\n",
       "    </tr>\n",
       "    <tr>\n",
       "      <th>3</th>\n",
       "      <td>Top 5 blender and juicer deals The Blend-Activ...</td>\n",
       "      <td>[-0.009851427, -0.018852755, -0.036894906, -0....</td>\n",
       "    </tr>\n",
       "    <tr>\n",
       "      <th>4</th>\n",
       "      <td>Grain Free Granola Bars Have you been looking ...</td>\n",
       "      <td>[0.36925697, 1.3718643, 0.025232743, 0.8107497...</td>\n",
       "    </tr>\n",
       "  </tbody>\n",
       "</table>\n",
       "</div>"
      ],
      "text/plain": [
       "                                                text  \\\n",
       "0  Stick Blender - Free Online Funny Games If you...   \n",
       "1  Blenders Review Why Use a Blender? The top per...   \n",
       "2  Battle of the blenders: are the Nutribullet's ...   \n",
       "3  Top 5 blender and juicer deals The Blend-Activ...   \n",
       "4  Grain Free Granola Bars Have you been looking ...   \n",
       "\n",
       "                                         doc_vectors  \n",
       "0  [0.3313374, -0.20437007, -0.499616, 0.21268374...  \n",
       "1  [0.200803, 0.27143788, -0.5644821, 0.07569534,...  \n",
       "2  [0.26537505, 0.30610573, -0.28650934, 0.370924...  \n",
       "3  [-0.009851427, -0.018852755, -0.036894906, -0....  \n",
       "4  [0.36925697, 1.3718643, 0.025232743, 0.8107497...  "
      ]
     },
     "execution_count": 80,
     "metadata": {},
     "output_type": "execute_result"
    }
   ],
   "source": [
    "df.head()"
   ]
  },
  {
   "cell_type": "code",
   "execution_count": 13,
   "metadata": {
    "collapsed": true
   },
   "outputs": [],
   "source": [
    "meta_records = []\n",
    "for doc_id in model.docvecs.offset2doctag:\n",
    "    d = dict()\n",
    "    dff = df[df.index == int(doc_id)]\n",
    "    d['tag'] = doc_id\n",
    "    meta_records.append(d)"
   ]
  },
  {
   "cell_type": "code",
   "execution_count": 14,
   "metadata": {},
   "outputs": [],
   "source": [
    "meta_df = pd.DataFrame.from_records(meta_records)"
   ]
  },
  {
   "cell_type": "code",
   "execution_count": 20,
   "metadata": {},
   "outputs": [
    {
     "ename": "SyntaxError",
     "evalue": "invalid syntax (<ipython-input-20-23145911014c>, line 6)",
     "output_type": "error",
     "traceback": [
      "\u001b[0;36m  File \u001b[0;32m\"<ipython-input-20-23145911014c>\"\u001b[0;36m, line \u001b[0;32m6\u001b[0m\n\u001b[0;31m    d['vec'] = doc.\u001b[0m\n\u001b[0m                   ^\u001b[0m\n\u001b[0;31mSyntaxError\u001b[0m\u001b[0;31m:\u001b[0m invalid syntax\n"
     ]
    }
   ],
   "source": [
    "vect_rec = []\n",
    "for doc in model.docvecs:\n",
    "    doc_id = int(doc.offset2doctag)\n",
    "    d = dict()\n",
    "    dff = df[df.index == int(doc_id)]\n",
    "    d['vec'] = doc.\n",
    "    vect_rec.append(doc.get_vector)"
   ]
  },
  {
   "cell_type": "code",
   "execution_count": 45,
   "metadata": {},
   "outputs": [
    {
     "data": {
      "text/html": [
       "<div>\n",
       "<table border=\"1\" class=\"dataframe\">\n",
       "  <thead>\n",
       "    <tr style=\"text-align: right;\">\n",
       "      <th></th>\n",
       "      <th>tag</th>\n",
       "    </tr>\n",
       "  </thead>\n",
       "  <tbody>\n",
       "    <tr>\n",
       "      <th>995</th>\n",
       "      <td>995</td>\n",
       "    </tr>\n",
       "    <tr>\n",
       "      <th>996</th>\n",
       "      <td>996</td>\n",
       "    </tr>\n",
       "    <tr>\n",
       "      <th>997</th>\n",
       "      <td>997</td>\n",
       "    </tr>\n",
       "    <tr>\n",
       "      <th>998</th>\n",
       "      <td>998</td>\n",
       "    </tr>\n",
       "    <tr>\n",
       "      <th>999</th>\n",
       "      <td>999</td>\n",
       "    </tr>\n",
       "  </tbody>\n",
       "</table>\n",
       "</div>"
      ],
      "text/plain": [
       "     tag\n",
       "995  995\n",
       "996  996\n",
       "997  997\n",
       "998  998\n",
       "999  999"
      ]
     },
     "execution_count": 45,
     "metadata": {},
     "output_type": "execute_result"
    }
   ],
   "source": [
    "meta_df.tail()"
   ]
  },
  {
   "cell_type": "code",
   "execution_count": 15,
   "metadata": {},
   "outputs": [],
   "source": [
    "masking = [str(i) for i in range(1000)]\n",
    "top12_mask = meta_df.tag.isin(masking)"
   ]
  },
  {
   "cell_type": "code",
   "execution_count": 16,
   "metadata": {},
   "outputs": [],
   "source": [
    "doc_vectors = model.docvecs.vectors_docs[top12_mask] "
   ]
  },
  {
   "cell_type": "code",
   "execution_count": 44,
   "metadata": {},
   "outputs": [],
   "source": [
    "from sklearn.cluster import KMeans\n",
    "\n",
    "cluster_range = range(1,20)\n",
    "cluster_errors = []\n",
    "\n",
    "for num_clusters in cluster_range:\n",
    "  clusters = KMeans( n_clusters=num_clusters)\n",
    "  clusters.fit(doc_vectors) \n",
    "  cluster_errors.append( clusters.inertia_)"
   ]
  },
  {
   "cell_type": "code",
   "execution_count": 45,
   "metadata": {
    "collapsed": true
   },
   "outputs": [],
   "source": [
    "clusters_df = pd.DataFrame( { \"num_clusters\":cluster_range, \"cluster_errors\": cluster_errors })"
   ]
  },
  {
   "cell_type": "code",
   "execution_count": 47,
   "metadata": {},
   "outputs": [
    {
     "data": {
      "text/plain": [
       "[<matplotlib.lines.Line2D at 0x11c884e10>]"
      ]
     },
     "execution_count": 47,
     "metadata": {},
     "output_type": "execute_result"
    },
    {
     "data": {
      "image/png": "[encoded data removed]",
      "text/plain": [
       "<matplotlib.figure.Figure at 0x119d54b10>"
      ]
     },
     "metadata": {},
     "output_type": "display_data"
    }
   ],
   "source": [
    "plt.figure(figsize=(12,6))\n",
    "plt.plot(clusters_df.num_clusters, clusters_df.cluster_errors, marker = \"o\" )"
   ]
  },
  {
   "cell_type": "code",
   "execution_count": 48,
   "metadata": {
    "collapsed": true
   },
   "outputs": [],
   "source": [
    "all_documents = [text for text in df.text]"
   ]
  },
  {
   "cell_type": "code",
   "execution_count": 57,
   "metadata": {},
   "outputs": [],
   "source": [
    "#not super pythonic, no, not at all.\n",
    "#use extend so it's a big flat list of vocab\n",
    "totalvocab_stemmed = []\n",
    "totalvocab_tokenized = []\n",
    "for i in all_documents:\n",
    "    allwords_stemmed = tokenize_and_stem(i) #for each item in 'synopses', tokenize/stem\n",
    "    totalvocab_stemmed.extend(allwords_stemmed) #extend the 'totalvocab_stemmed' list\n",
    "    \n",
    "    allwords_tokenized = tokenize_only(i)\n",
    "    totalvocab_tokenized.extend(allwords_tokenized)"
   ]
  },
  {
   "cell_type": "code",
   "execution_count": 58,
   "metadata": {},
   "outputs": [
    {
     "name": "stdout",
     "output_type": "stream",
     "text": [
      "686846 items in vocab_frame\n"
     ]
    }
   ],
   "source": [
    "vocab_frame = pd.DataFrame({'words': totalvocab_tokenized}, index = totalvocab_stemmed)\n",
    "print '{} items in vocab_frame'.format(str(vocab_frame.shape[0]))"
   ]
  },
  {
   "cell_type": "code",
   "execution_count": 77,
   "metadata": {},
   "outputs": [
    {
     "data": {
      "text/html": [
       "<div>\n",
       "<table border=\"1\" class=\"dataframe\">\n",
       "  <thead>\n",
       "    <tr style=\"text-align: right;\">\n",
       "      <th></th>\n",
       "      <th>words</th>\n",
       "    </tr>\n",
       "  </thead>\n",
       "  <tbody>\n",
       "    <tr>\n",
       "      <th>stick</th>\n",
       "      <td>stick</td>\n",
       "    </tr>\n",
       "    <tr>\n",
       "      <th>blender</th>\n",
       "      <td>blender</td>\n",
       "    </tr>\n",
       "    <tr>\n",
       "      <th>free</th>\n",
       "      <td>free</td>\n",
       "    </tr>\n",
       "    <tr>\n",
       "      <th>onlin</th>\n",
       "      <td>online</td>\n",
       "    </tr>\n",
       "    <tr>\n",
       "      <th>funni</th>\n",
       "      <td>funny</td>\n",
       "    </tr>\n",
       "  </tbody>\n",
       "</table>\n",
       "</div>"
      ],
      "text/plain": [
       "           words\n",
       "stick      stick\n",
       "blender  blender\n",
       "free        free\n",
       "onlin     online\n",
       "funni      funny"
      ]
     },
     "execution_count": 77,
     "metadata": {},
     "output_type": "execute_result"
    }
   ],
   "source": []
  },
  {
   "cell_type": "code",
   "execution_count": 60,
   "metadata": {},
   "outputs": [
    {
     "name": "stdout",
     "output_type": "stream",
     "text": [
      "CPU times: user 143 ms, sys: 13.8 ms, total: 157 ms\n",
      "Wall time: 160 ms\n"
     ]
    }
   ],
   "source": [
    "num_clusters = 5\n",
    "\n",
    "km = KMeans(n_clusters=num_clusters)\n",
    "\n",
    "%time km.fit(doc_vectors)\n",
    "\n",
    "clusters = km.labels_.tolist()"
   ]
  },
  {
   "cell_type": "code",
   "execution_count": 62,
   "metadata": {},
   "outputs": [],
   "source": [
    "from sklearn.externals import joblib\n",
    "\n",
    "#uncomment the below to save your model \n",
    "#since I've already run my model I am loading from the pickle\n",
    "\n",
    "joblib.dump(km,  'doc2vec_cluster.pkl')\n",
    "\n",
    "km = joblib.load('doc2vec_cluster.pkl')\n",
    "clusters = km.labels_.tolist()"
   ]
  },
  {
   "cell_type": "code",
   "execution_count": 82,
   "metadata": {},
   "outputs": [],
   "source": [
    "df['clusters'] = clusters"
   ]
  },
  {
   "cell_type": "code",
   "execution_count": 83,
   "metadata": {},
   "outputs": [
    {
     "data": {
      "text/html": [
       "<div>\n",
       "<table border=\"1\" class=\"dataframe\">\n",
       "  <thead>\n",
       "    <tr style=\"text-align: right;\">\n",
       "      <th></th>\n",
       "      <th>text</th>\n",
       "      <th>doc_vectors</th>\n",
       "      <th>clusters</th>\n",
       "    </tr>\n",
       "  </thead>\n",
       "  <tbody>\n",
       "    <tr>\n",
       "      <th>0</th>\n",
       "      <td>Stick Blender - Free Online Funny Games If you...</td>\n",
       "      <td>[0.3313374, -0.20437007, -0.499616, 0.21268374...</td>\n",
       "      <td>0</td>\n",
       "    </tr>\n",
       "    <tr>\n",
       "      <th>1</th>\n",
       "      <td>Blenders Review Why Use a Blender? The top per...</td>\n",
       "      <td>[0.200803, 0.27143788, -0.5644821, 0.07569534,...</td>\n",
       "      <td>4</td>\n",
       "    </tr>\n",
       "    <tr>\n",
       "      <th>2</th>\n",
       "      <td>Battle of the blenders: are the Nutribullet's ...</td>\n",
       "      <td>[0.26537505, 0.30610573, -0.28650934, 0.370924...</td>\n",
       "      <td>4</td>\n",
       "    </tr>\n",
       "    <tr>\n",
       "      <th>3</th>\n",
       "      <td>Top 5 blender and juicer deals The Blend-Activ...</td>\n",
       "      <td>[-0.009851427, -0.018852755, -0.036894906, -0....</td>\n",
       "      <td>0</td>\n",
       "    </tr>\n",
       "    <tr>\n",
       "      <th>4</th>\n",
       "      <td>Grain Free Granola Bars Have you been looking ...</td>\n",
       "      <td>[0.36925697, 1.3718643, 0.025232743, 0.8107497...</td>\n",
       "      <td>3</td>\n",
       "    </tr>\n",
       "  </tbody>\n",
       "</table>\n",
       "</div>"
      ],
      "text/plain": [
       "                                                text  \\\n",
       "0  Stick Blender - Free Online Funny Games If you...   \n",
       "1  Blenders Review Why Use a Blender? The top per...   \n",
       "2  Battle of the blenders: are the Nutribullet's ...   \n",
       "3  Top 5 blender and juicer deals The Blend-Activ...   \n",
       "4  Grain Free Granola Bars Have you been looking ...   \n",
       "\n",
       "                                         doc_vectors  clusters  \n",
       "0  [0.3313374, -0.20437007, -0.499616, 0.21268374...         0  \n",
       "1  [0.200803, 0.27143788, -0.5644821, 0.07569534,...         4  \n",
       "2  [0.26537505, 0.30610573, -0.28650934, 0.370924...         4  \n",
       "3  [-0.009851427, -0.018852755, -0.036894906, -0....         0  \n",
       "4  [0.36925697, 1.3718643, 0.025232743, 0.8107497...         3  "
      ]
     },
     "execution_count": 83,
     "metadata": {},
     "output_type": "execute_result"
    }
   ],
   "source": [
    "df2 = df[]"
   ]
  },
  {
   "cell_type": "code",
   "execution_count": 63,
   "metadata": {
    "collapsed": true
   },
   "outputs": [],
   "source": [
    "films = { 'Text': all_documents, 'cluster': clusters}\n",
    "\n",
    "frame = pd.DataFrame(films, index = [clusters] , columns = ['Text','cluster'])"
   ]
  },
  {
   "cell_type": "code",
   "execution_count": 64,
   "metadata": {},
   "outputs": [
    {
     "data": {
      "text/plain": [
       "0    495\n",
       "4    262\n",
       "1    102\n",
       "3     85\n",
       "2     56\n",
       "Name: cluster, dtype: int64"
      ]
     },
     "execution_count": 64,
     "metadata": {},
     "output_type": "execute_result"
    }
   ],
   "source": [
    "frame['cluster'].value_counts() #number of films per cluster (clusters from 0 to 4)\n"
   ]
  },
  {
   "cell_type": "code",
   "execution_count": 71,
   "metadata": {},
   "outputs": [],
   "source": [
    "#tokenize = lambda doc: doc.lower().split(\" \")\n",
    "sklearn_tfidf = TfidfVectorizer(norm='l2',stop_words=u'english', lowercase=True, min_df=0, use_idf=True, smooth_idf=False, sublinear_tf=True,ngram_range=(1,3), tokenizer=tokenize_and_stem)\n",
    "sklearn_representation = sklearn_tfidf.fit_transform(all_documents)"
   ]
  },
  {
   "cell_type": "code",
   "execution_count": 72,
   "metadata": {
    "collapsed": true
   },
   "outputs": [],
   "source": [
    "vocab = np.array(sklearn_tfidf.get_feature_names())\n",
    "results = np.array(sklearn_representation.toarray())"
   ]
  },
  {
   "cell_type": "code",
   "execution_count": 67,
   "metadata": {},
   "outputs": [],
   "source": [
    "def get_KM_results(km, num_clusters, number_of_words = 10):\n",
    "    print(\"Top terms per cluster:\")\n",
    "    print()\n",
    "    #sort cluster centers by proximity to centroid\n",
    "    order_centroids = km.cluster_centers_.argsort()[:, ::-1] \n",
    "\n",
    "    for i in range(num_clusters):\n",
    "        print 'Cluster {} words:'.format(i)\n",
    "\n",
    "        for ind in order_centroids[i, : number_of_words]: #replace 6 with n words per cluster\n",
    "            #print('{}'.format(str(vocab_frame.ix[vocab[ind].split(' ')].values.tolist()[0][0]).encode('utf-8', 'ignore'), end=','))\n",
    "            print(' %s' % str(vocab_frame.ix[vocab[ind].split(' ')].values.tolist()[0][0]).encode('utf-8', 'ignore'))\n",
    "        print() #add whitespace\n",
    "        print() #add whitespace\n",
    "    print()\n",
    "    print()"
   ]
  },
  {
   "cell_type": "code",
   "execution_count": 74,
   "metadata": {},
   "outputs": [
    {
     "name": "stdout",
     "output_type": "stream",
     "text": [
      "Top terms per cluster:\n",
      "()\n",
      "Cluster 0 words:\n",
      " 'd\n",
      " 'd\n",
      " 'd\n",
      " 'b\n",
      " 'd\n",
      " 'd\n",
      " 'd\n",
      " 'd\n",
      " 'd\n",
      " 'd\n",
      "()\n",
      "()\n",
      "Cluster 1 words:\n",
      " 'd\n",
      " 'd\n",
      " 'd\n",
      " 'd\n",
      " 'd\n",
      " 'd\n",
      " 'd\n",
      " 'd\n",
      " 'd\n",
      " 'd\n",
      "()\n",
      "()\n",
      "Cluster 2 words:\n",
      " 'd\n",
      " 'd\n",
      " 'd\n",
      " 'c\n",
      " 'd\n",
      " 'd\n",
      " 'd\n",
      " 'a\n",
      " 'd\n",
      " 'd\n",
      "()\n",
      "()\n",
      "Cluster 3 words:\n",
      " 'd\n",
      " 'd\n",
      " 'd\n",
      " 'd\n",
      " 'd\n",
      " 'd\n",
      " 'd\n",
      " 'd\n",
      " 'a\n",
      " 'd\n",
      "()\n",
      "()\n",
      "Cluster 4 words:\n",
      " 'd\n",
      " 'd\n",
      " 'd\n",
      " 'd\n",
      " 'd\n",
      " 'd\n",
      " 'c\n",
      " 'd\n",
      " 'd\n",
      " 'd\n",
      "()\n",
      "()\n",
      "()\n",
      "()\n"
     ]
    }
   ],
   "source": [
    "get_KM_results(km,5)"
   ]
  },
  {
   "cell_type": "code",
   "execution_count": 17,
   "metadata": {},
   "outputs": [
    {
     "name": "stdout",
     "output_type": "stream",
     "text": [
      "[t-SNE] Computing 121 nearest neighbors...\n",
      "[t-SNE] Indexed 1000 samples in 0.008s...\n",
      "[t-SNE] Computed neighbors for 1000 samples in 0.314s...\n",
      "[t-SNE] Computed conditional probabilities for sample 1000 / 1000\n",
      "[t-SNE] Mean sigma: 0.381309\n",
      "[t-SNE] KL divergence after 250 iterations with early exaggeration: 63.466736\n",
      "[t-SNE] Error after 500 iterations: 0.814829\n",
      "CPU times: user 22 s, sys: 1.29 s, total: 23.3 s\n",
      "Wall time: 23.9 s\n"
     ]
    }
   ],
   "source": [
    "%%time\n",
    "tsne = TSNE(n_components=2, verbose=1, perplexity=40, n_iter=500)\n",
    "tsne_results = tsne.fit_transform(doc_vectors)"
   ]
  },
  {
   "cell_type": "code",
   "execution_count": null,
   "metadata": {
    "collapsed": true
   },
   "outputs": [],
   "source": []
  },
  {
   "cell_type": "code",
   "execution_count": 18,
   "metadata": {},
   "outputs": [],
   "source": [
    "traces = []\n",
    "for tag_type in masking:\n",
    "    trace = go.Scatter(\n",
    "        x=tsne_results[meta_df.tag==tag_type,0],\n",
    "        y=tsne_results[meta_df.tag==tag_type,1],\n",
    "        mode='markers',\n",
    "        name=tag_type, \n",
    "        marker=dict(\n",
    "            size=10,\n",
    "            opacity=0.5\n",
    "        )\n",
    "    )\n",
    "    traces.append(trace)\n",
    "\n",
    "layout = go.Layout(\n",
    "    xaxis=dict(\n",
    "    range = [-50, 50]\n",
    "        ), \n",
    "    yaxis=dict(\n",
    "    range = [-50, 50]\n",
    "        )\n",
    "    )\n",
    "\n",
    "fig = go.Figure(data=traces, layout=layout)\n"
   ]
  },
  {
   "cell_type": "code",
   "execution_count": 19,
   "metadata": {},
   "outputs": [
    {
     "data": {
      "image/png": "[encoded data removed]",
      "text/plain": [
       "<IPython.core.display.Image object>"
      ]
     },
     "metadata": {},
     "output_type": "display_data"
    }
   ],
   "source": [
    "py.image.ishow(fig)"
   ]
  },
  {
   "cell_type": "code",
   "execution_count": null,
   "metadata": {
    "collapsed": true
   },
   "outputs": [],
   "source": []
  }
 ],
 "metadata": {
  "anaconda-cloud": {},
  "kernelspec": {
   "display_name": "Python 2",
   "language": "python",
   "name": "python2"
  },
  "language_info": {
   "codemirror_mode": {
    "name": "ipython",
    "version": 2
   },
   "file_extension": ".py",
   "mimetype": "text/x-python",
   "name": "python",
   "nbconvert_exporter": "python",
   "pygments_lexer": "ipython2",
   "version": "2.7.15rc1"
  }
 },
 "nbformat": 4,
 "nbformat_minor": 2
}
